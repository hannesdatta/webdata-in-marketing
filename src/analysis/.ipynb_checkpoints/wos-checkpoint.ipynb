{
 "cells": [
  {
   "cell_type": "markdown",
   "metadata": {},
   "source": [
    "# WOS citations"
   ]
  },
  {
   "cell_type": "markdown",
   "metadata": {},
   "source": [
    "## Data retrieval using the official clarivate WoS Extended API\n"
   ]
  },
  {
   "cell_type": "code",
   "execution_count": 55,
   "metadata": {},
   "outputs": [],
   "source": [
    "import requests\n",
    "import json\n",
    "import time\n",
    "import math\n",
    "\n",
    "# put Clarivate API Key here\n",
    "headers = {'X-ApiKey': '<KEY_HERE>'}\n",
    "\n",
    "fn = 'output_datta.json'\n",
    "\n",
    "# For prototyping\n",
    "# obj=json.loads(open('test3.txt','r').read())"
   ]
  },
  {
   "cell_type": "code",
   "execution_count": 56,
   "metadata": {},
   "outputs": [],
   "source": [
    "# load WOS identifiers\n",
    "data = open('wos.txt','r').readlines()\n",
    "wos = []\n",
    "for row in data: \n",
    "    wos.append(row.replace('\\n', '').replace('WOS', 'WOS:'))"
   ]
  },
  {
   "cell_type": "code",
   "execution_count": 57,
   "metadata": {},
   "outputs": [],
   "source": [
    "# retrieval function\n",
    "def get_wos(id, first_record=1):     \n",
    "    url = 'https://wos-api.clarivate.com/api/wos/citing/?databaseId=WOS&uniqueId=' + str(id) + '&count=100&firstRecord=' + str(first_record) + '&optionView=FR'\n",
    "    response = requests.get(url, headers=headers)\n",
    "    return(response)\n",
    "    #return(response)\n",
    "\n"
   ]
  },
  {
   "cell_type": "code",
   "execution_count": 58,
   "metadata": {},
   "outputs": [],
   "source": [
    "def get_all_wos(id):\n",
    "    iterator=1\n",
    "    collect = True\n",
    "    \n",
    "    while collect:\n",
    "        print('Collecting data for ' + id + ', records ' + str(iterator) + '+')\n",
    "        req = get_wos(id = id, first_record = iterator)\n",
    "        \n",
    "        # save call\n",
    "        try:\n",
    "            jsonresponse = req.json() #obj #\n",
    "        except:\n",
    "            jsonresponse = {'error': response.status_code,\n",
    "                           'text': response.text}\n",
    "\n",
    "        out = {'wos_id': id,\n",
    "               'wos_first_record': iterator,\n",
    "              'request_timestamp': math.floor(time.time()),\n",
    "              'response': jsonresponse}\n",
    "        \n",
    "        f = open(fn, 'a',encoding = 'utf-8')\n",
    "        f.write(json.dumps(out)+'\\n')\n",
    "        f.close()\n",
    "        \n",
    "        # any more objects to get?\n",
    "        try:\n",
    "            recs = obj.get('QueryResult').get('RecordsFound')\n",
    "        except:\n",
    "            recs = 0\n",
    "        \n",
    "        if recs==0:\n",
    "            collect = False\n",
    "        else:\n",
    "            iterator += 100\n",
    "        \n",
    "        time.sleep(.5) # to adhere to 2 req per second max."
   ]
  },
  {
   "cell_type": "code",
   "execution_count": 59,
   "metadata": {},
   "outputs": [
    {
     "name": "stdout",
     "output_type": "stream",
     "text": [
      "Collecting data for WOS:000588620800006, records 1+\n",
      "Collecting data for WOS:000588620800006, records 101+\n",
      "Collecting data for WOS:000588620800006, records 201+\n",
      "Collecting data for WOS:000588620800006, records 301+\n",
      "Collecting data for WOS:000588620800006, records 401+\n",
      "Collecting data for WOS:000588620800006, records 501+\n"
     ]
    },
    {
     "ename": "KeyboardInterrupt",
     "evalue": "",
     "output_type": "error",
     "traceback": [
      "\u001b[0;31m---------------------------------------------------------------------------\u001b[0m",
      "\u001b[0;31mKeyboardInterrupt\u001b[0m                         Traceback (most recent call last)",
      "\u001b[0;32m<ipython-input-59-2eaa8a7adf56>\u001b[0m in \u001b[0;36m<module>\u001b[0;34m\u001b[0m\n\u001b[1;32m      1\u001b[0m \u001b[0;31m# Run collection\u001b[0m\u001b[0;34m\u001b[0m\u001b[0;34m\u001b[0m\u001b[0;34m\u001b[0m\u001b[0m\n\u001b[1;32m      2\u001b[0m \u001b[0;32mfor\u001b[0m \u001b[0mw\u001b[0m \u001b[0;32min\u001b[0m \u001b[0mwos\u001b[0m\u001b[0;34m:\u001b[0m\u001b[0;34m\u001b[0m\u001b[0;34m\u001b[0m\u001b[0m\n\u001b[0;32m----> 3\u001b[0;31m     \u001b[0mget_all_wos\u001b[0m\u001b[0;34m(\u001b[0m\u001b[0mid\u001b[0m \u001b[0;34m=\u001b[0m \u001b[0mw\u001b[0m\u001b[0;34m)\u001b[0m\u001b[0;34m\u001b[0m\u001b[0;34m\u001b[0m\u001b[0m\n\u001b[0m\u001b[1;32m      4\u001b[0m \u001b[0;34m\u001b[0m\u001b[0m\n",
      "\u001b[0;32m<ipython-input-58-49adb98df65a>\u001b[0m in \u001b[0;36mget_all_wos\u001b[0;34m(id)\u001b[0m\n\u001b[1;32m     34\u001b[0m             \u001b[0miterator\u001b[0m \u001b[0;34m+=\u001b[0m \u001b[0;36m100\u001b[0m\u001b[0;34m\u001b[0m\u001b[0;34m\u001b[0m\u001b[0m\n\u001b[1;32m     35\u001b[0m \u001b[0;34m\u001b[0m\u001b[0m\n\u001b[0;32m---> 36\u001b[0;31m         \u001b[0mtime\u001b[0m\u001b[0;34m.\u001b[0m\u001b[0msleep\u001b[0m\u001b[0;34m(\u001b[0m\u001b[0;36m.5\u001b[0m\u001b[0;34m)\u001b[0m \u001b[0;31m# to adhere to 2 req per second max.\u001b[0m\u001b[0;34m\u001b[0m\u001b[0;34m\u001b[0m\u001b[0m\n\u001b[0m",
      "\u001b[0;31mKeyboardInterrupt\u001b[0m: "
     ]
    }
   ],
   "source": [
    "# Run collection\n",
    "for w in wos:\n",
    "    get_all_wos(id = w)\n",
    "    \n"
   ]
  },
  {
   "cell_type": "code",
   "execution_count": null,
   "metadata": {},
   "outputs": [],
   "source": []
  }
 ],
 "metadata": {
  "kernelspec": {
   "display_name": "Python 3",
   "language": "python",
   "name": "python3"
  },
  "language_info": {
   "codemirror_mode": {
    "name": "ipython",
    "version": 3
   },
   "file_extension": ".py",
   "mimetype": "text/x-python",
   "name": "python",
   "nbconvert_exporter": "python",
   "pygments_lexer": "ipython3",
   "version": "3.8.3"
  }
 },
 "nbformat": 4,
 "nbformat_minor": 4
}
